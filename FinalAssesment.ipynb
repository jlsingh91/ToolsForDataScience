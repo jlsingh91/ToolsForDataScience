{
  "metadata": {
    "language_info": {
      "codemirror_mode": {
        "name": "python",
        "version": 3
      },
      "file_extension": ".py",
      "mimetype": "text/x-python",
      "name": "python",
      "nbconvert_exporter": "python",
      "pygments_lexer": "ipython3",
      "version": "3.8"
    },
    "kernelspec": {
      "name": "python",
      "display_name": "Python (Pyodide)",
      "language": "python"
    }
  },
  "nbformat_minor": 4,
  "nbformat": 4,
  "cells": [
    {
      "cell_type": "markdown",
      "source": "# My Jupyter Notebook on IBM Watson Studio",
      "metadata": {}
    },
    {
      "cell_type": "markdown",
      "source": "__JYOTSNA SINGH__",
      "metadata": {}
    },
    {
      "cell_type": "markdown",
      "source": "Research Assistant",
      "metadata": {}
    },
    {
      "cell_type": "markdown",
      "source": "_I am interested in data science because it gives freedom to manipulate and handle all types of data and gives an opportunity to find a meaning from that data_",
      "metadata": {}
    },
    {
      "cell_type": "markdown",
      "source": "### The below code adds, multiply and divide two defined numbers",
      "metadata": {}
    },
    {
      "cell_type": "code",
      "source": "a = 12\nb = 2\n\nprint(a + b)\nprint(a**b)\nprint(a/b)",
      "metadata": {
        "trusted": true
      },
      "execution_count": 3,
      "outputs": [
        {
          "name": "stdout",
          "text": "14\n144\n6.0\n",
          "output_type": "stream"
        }
      ]
    },
    {
      "cell_type": "markdown",
      "source": "- Bulleted item\n1. Numbered item\n***",
      "metadata": {}
    }
  ]
}